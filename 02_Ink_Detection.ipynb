{
 "cells": [
  {
   "cell_type": "markdown",
   "id": "79cdead1",
   "metadata": {},
   "source": [
    "# Ink Detection"
   ]
  },
  {
   "cell_type": "markdown",
   "id": "e8555e99",
   "metadata": {},
   "source": [
    "### Imports and Basic Setup"
   ]
  },
  {
   "cell_type": "code",
   "execution_count": null,
   "id": "01aedc1a",
   "metadata": {},
   "outputs": [],
   "source": [
    "import os\n",
    "import time\n",
    "import numpy as np\n",
    "import tensorflow as tf\n",
    "from class_Detector import Detector"
   ]
  },
  {
   "cell_type": "code",
   "execution_count": null,
   "id": "2a534b86",
   "metadata": {},
   "outputs": [],
   "source": [
    "cwd = os.getcwd()\n",
    "segment = '20231005123336'\n",
    "m_name = 'X65M_25'"
   ]
  },
  {
   "cell_type": "markdown",
   "id": "a7282280",
   "metadata": {},
   "source": [
    "### Load Model"
   ]
  },
  {
   "cell_type": "code",
   "execution_count": null,
   "id": "77e7c88b",
   "metadata": {},
   "outputs": [],
   "source": [
    "path = os.path.join(cwd, 'models', f'model_{m_name}_full.keras')\n",
    "model = tf.keras.models.load_model(path)\n",
    "model.call = tf.function(model.call, reduce_retracing=True)"
   ]
  },
  {
   "cell_type": "markdown",
   "id": "75f542e8",
   "metadata": {},
   "source": [
    "### Run Detections"
   ]
  },
  {
   "cell_type": "code",
   "execution_count": null,
   "id": "a623a2c6",
   "metadata": {},
   "outputs": [],
   "source": [
    "steps = [29, 30, 31]\n",
    "for x in steps:\n",
    "    img_paths = [os.path.join(cwd, segment, 'stack', f'{i:02}.tif') for i in range(x, x+8, 1)]\n",
    "    save_path = os.path.join(cwd, segment, 'images', f'{m_name}_{x}_max.npy')\n",
    "    ink_detector = Detector(img_paths, save_path, img_dims=(2700, 3500, 15900, 19000))\n",
    "    ink_detector.cell_settings(cell_size=7, cell_iter=(3, 6, 3, 6))\n",
    "    ink_detector.grid_settings(grid_iter=(10, 5))\n",
    "    \n",
    "    ink_detector.find_ink(\n",
    "        dims = (0, ink_detector.images.shape[1], 0, ink_detector.images.shape[2]),\n",
    "        model = model,\n",
    "        threshold = 0.3,\n",
    "        method = 'max',\n",
    "        verbose = True\n",
    "    )\n",
    "    \n",
    "    save_path = os.path.join(cwd, segment, 'images', f'{m_name}_{x}_max.png')\n",
    "    ink_detector.save_image(save_path)\n",
    "    \n",
    "    ink_detector = None\n",
    "    time.sleep(60)"
   ]
  }
 ],
 "metadata": {
  "kernelspec": {
   "display_name": "Python 3 (ipykernel)",
   "language": "python",
   "name": "python3"
  },
  "language_info": {
   "codemirror_mode": {
    "name": "ipython",
    "version": 3
   },
   "file_extension": ".py",
   "mimetype": "text/x-python",
   "name": "python",
   "nbconvert_exporter": "python",
   "pygments_lexer": "ipython3",
   "version": "3.10.4"
  }
 },
 "nbformat": 4,
 "nbformat_minor": 5
}
