{
 "cells": [
  {
   "cell_type": "markdown",
   "id": "7f93f85f",
   "metadata": {},
   "source": [
    "# Image Processing"
   ]
  },
  {
   "cell_type": "markdown",
   "id": "870a1b70",
   "metadata": {},
   "source": [
    "### Imports and Basic Setup"
   ]
  },
  {
   "cell_type": "code",
   "execution_count": null,
   "id": "16443eab",
   "metadata": {},
   "outputs": [],
   "source": [
    "import os\n",
    "import numpy as np\n",
    "import PIL.Image as Image\n",
    "from matplotlib import pyplot as plt\n",
    "Image.MAX_IMAGE_PIXELS = None"
   ]
  },
  {
   "cell_type": "code",
   "execution_count": null,
   "id": "87342de5",
   "metadata": {},
   "outputs": [],
   "source": [
    "cwd = os.getcwd()\n",
    "segment = '20231005123336'\n",
    "m_name = 'X65M_25'"
   ]
  },
  {
   "cell_type": "markdown",
   "id": "b355c98c",
   "metadata": {},
   "source": [
    "### Averaged Maps"
   ]
  },
  {
   "cell_type": "code",
   "execution_count": null,
   "id": "4629f5f9",
   "metadata": {},
   "outputs": [],
   "source": [
    "steps = ['29_max', '30_max', '31_max']\n",
    "maps = [np.load(os.path.join(cwd, segment, 'images', f'{m_name}_{x}.npy')) for x in steps]"
   ]
  },
  {
   "cell_type": "code",
   "execution_count": null,
   "id": "057b74ac",
   "metadata": {},
   "outputs": [],
   "source": [
    "avg_map = np.zeros(maps[0].shape)\n",
    "for i in range(0, avg_map.shape[0]):\n",
    "    for j in range(0, avg_map.shape[1]):\n",
    "        avg_map[i, j] = sum([m[i, j] for m in maps])/len(maps)\n",
    "avg_map = avg_map/avg_map.max()"
   ]
  },
  {
   "cell_type": "code",
   "execution_count": null,
   "id": "56ef7082",
   "metadata": {},
   "outputs": [],
   "source": [
    "avg_img = Image.fromarray(avg_map*255)\n",
    "fig, (ax1) = plt.subplots(1, 1, figsize=(16,8))\n",
    "ax1.set_title(\"Average Map\")\n",
    "ax1.imshow(avg_img, cmap='gray')\n",
    "plt.show()"
   ]
  },
  {
   "cell_type": "code",
   "execution_count": null,
   "id": "3d7fe9ae",
   "metadata": {},
   "outputs": [],
   "source": [
    "path = os.path.join(cwd, segment, 'images', f'{m_name}_averaged.npy')\n",
    "np.save(path, avg_map)\n",
    "print('Array saved.')"
   ]
  },
  {
   "cell_type": "code",
   "execution_count": null,
   "id": "83211fd2",
   "metadata": {},
   "outputs": [],
   "source": [
    "path = os.path.join(cwd, segment, 'images', f'{m_name}_averaged.png')\n",
    "avg_check_img = Image.fromarray((avg_map*255).astype('uint8'))\n",
    "avg_check_img.save(path)\n",
    "print('Image saved.')"
   ]
  },
  {
   "cell_type": "markdown",
   "id": "d551a748",
   "metadata": {},
   "source": [
    "### Create Black and White Images"
   ]
  },
  {
   "cell_type": "code",
   "execution_count": null,
   "id": "85d99dda",
   "metadata": {},
   "outputs": [],
   "source": [
    "arr_file_name = f'{m_name}_averaged'\n",
    "path = os.path.join(cwd, segment, 'images', f'{arr_file_name}.npy')\n",
    "ref_arr = (np.load(path))"
   ]
  },
  {
   "cell_type": "code",
   "execution_count": null,
   "id": "b5a4b27b",
   "metadata": {},
   "outputs": [],
   "source": [
    "bw_arr = 255 - (ref_arr/ref_arr.max())*255"
   ]
  },
  {
   "cell_type": "code",
   "execution_count": null,
   "id": "36667e51",
   "metadata": {},
   "outputs": [],
   "source": [
    "path = os.path.join(cwd, segment, 'images', f'{arr_file_name}_bw.png')\n",
    "bw_img = Image.fromarray(bw_arr.astype('uint8'))\n",
    "bw_img.save(path)\n",
    "print('Image saved.')"
   ]
  },
  {
   "cell_type": "markdown",
   "id": "a8bbe06f",
   "metadata": {},
   "source": [
    "### Create Map on Papyrus"
   ]
  },
  {
   "cell_type": "code",
   "execution_count": null,
   "id": "b4537823",
   "metadata": {},
   "outputs": [],
   "source": [
    "arr_file_name = f'{m_name}_averaged'\n",
    "tif_arr = ((np.array(Image.open(os.path.join(cwd, segment, 'info', f'{segment}.tif')))/65535) * 255)[2700:3500, 15900:19000]\n",
    "ref_arr = (np.load(os.path.join(cwd, segment, 'images', f'{arr_file_name}.npy')))*255"
   ]
  },
  {
   "cell_type": "code",
   "execution_count": null,
   "id": "36efd645",
   "metadata": {},
   "outputs": [],
   "source": [
    "for i in range(0, tif_arr.shape[0]-1):\n",
    "    for j in range(0, tif_arr.shape[1]-1):\n",
    "        if ref_arr[i, j] >= tif_arr[i, j]:\n",
    "            tif_arr[i, j] = 0\n",
    "        else:\n",
    "            tif_arr[i, j] -= int((ref_arr[i, j]))#*0.1)"
   ]
  },
  {
   "cell_type": "code",
   "execution_count": null,
   "id": "3067e327",
   "metadata": {},
   "outputs": [],
   "source": [
    "path = os.path.join(cwd, segment, 'images', f'{arr_file_name}_papyrus.npy')\n",
    "np.save(path, tif_arr)\n",
    "print('Array saved.')"
   ]
  },
  {
   "cell_type": "code",
   "execution_count": null,
   "id": "643009de",
   "metadata": {},
   "outputs": [],
   "source": [
    "path = os.path.join(cwd, segment, 'images', f'{arr_file_name}_papyrus.png')\n",
    "pap_img = Image.fromarray(tif_arr.astype('uint8'))\n",
    "pap_img.save(path)\n",
    "print('Image saved.')"
   ]
  }
 ],
 "metadata": {
  "kernelspec": {
   "display_name": "Python 3 (ipykernel)",
   "language": "python",
   "name": "python3"
  },
  "language_info": {
   "codemirror_mode": {
    "name": "ipython",
    "version": 3
   },
   "file_extension": ".py",
   "mimetype": "text/x-python",
   "name": "python",
   "nbconvert_exporter": "python",
   "pygments_lexer": "ipython3",
   "version": "3.10.4"
  }
 },
 "nbformat": 4,
 "nbformat_minor": 5
}
