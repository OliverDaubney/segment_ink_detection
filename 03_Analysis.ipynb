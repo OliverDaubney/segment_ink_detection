{
 "cells": [
  {
   "cell_type": "markdown",
   "id": "0503369f",
   "metadata": {},
   "source": [
    "# Analysis"
   ]
  },
  {
   "cell_type": "markdown",
   "id": "790c18c8",
   "metadata": {},
   "source": [
    "### Imports and Basic Setup"
   ]
  },
  {
   "cell_type": "code",
   "execution_count": null,
   "id": "01aedc1a",
   "metadata": {},
   "outputs": [],
   "source": [
    "import os\n",
    "import numpy as np\n",
    "import PIL.Image as Image\n",
    "from matplotlib import pyplot as plt"
   ]
  },
  {
   "cell_type": "code",
   "execution_count": null,
   "id": "b93f8524",
   "metadata": {},
   "outputs": [],
   "source": [
    "cwd = os.getcwd()\n",
    "segment = '20231005123336'\n",
    "m_name = 'X65M_25'\n",
    "num = 30"
   ]
  },
  {
   "cell_type": "code",
   "execution_count": null,
   "id": "0592343d",
   "metadata": {},
   "outputs": [],
   "source": [
    "path = os.path.join(cwd, segment, 'images', f'{m_name}_{num}_max.npy')\n",
    "grid = np.load(path)"
   ]
  },
  {
   "cell_type": "markdown",
   "id": "81cfe89c",
   "metadata": {},
   "source": [
    "### Visualisation"
   ]
  },
  {
   "cell_type": "code",
   "execution_count": null,
   "id": "995b8b25",
   "metadata": {},
   "outputs": [],
   "source": [
    "grid.shape"
   ]
  },
  {
   "cell_type": "code",
   "execution_count": null,
   "id": "caeb8ccd",
   "metadata": {},
   "outputs": [],
   "source": [
    "grid_img = Image.fromarray(grid*255)\n",
    "fig, (ax1) = plt.subplots(1, 1, figsize=(16, 8))\n",
    "ax1.imshow(grid_img, cmap='gray')\n",
    "plt.show()"
   ]
  },
  {
   "cell_type": "markdown",
   "id": "2e430028",
   "metadata": {},
   "source": [
    "### Threshold Filtering"
   ]
  },
  {
   "cell_type": "code",
   "execution_count": null,
   "id": "c5ea6cdf",
   "metadata": {},
   "outputs": [],
   "source": [
    "threshold = 0.70\n",
    "filtered_grid = grid.copy()\n",
    "filtered_grid[filtered_grid < threshold] = 0"
   ]
  },
  {
   "cell_type": "code",
   "execution_count": null,
   "id": "b990df1c",
   "metadata": {
    "scrolled": false
   },
   "outputs": [],
   "source": [
    "grid_img = Image.fromarray((filtered_grid/filtered_grid.max())*255)\n",
    "fig, (ax1) = plt.subplots(1, 1, figsize=(16, 8))\n",
    "ax1.imshow(grid_img, cmap='gray')\n",
    "plt.show()"
   ]
  },
  {
   "cell_type": "code",
   "execution_count": null,
   "id": "037a158a",
   "metadata": {},
   "outputs": [],
   "source": [
    "path = os.path.join(cwd, segment, 'images', f'{m_name}_{num}_filtered.npy')\n",
    "np.save(path, filtered_grid)\n",
    "print('Array saved.')"
   ]
  },
  {
   "cell_type": "code",
   "execution_count": null,
   "id": "b09f014b",
   "metadata": {
    "scrolled": true
   },
   "outputs": [],
   "source": [
    "path = os.path.join(cwd, segment, 'images', f'{m_name}_{num}_filtered.png')\n",
    "grid_check_img = Image.fromarray(((filtered_grid/filtered_grid.max())*255).astype('uint8'))\n",
    "grid_check_img.save(path)\n",
    "print(\"Image saved.\")"
   ]
  }
 ],
 "metadata": {
  "kernelspec": {
   "display_name": "Python 3 (ipykernel)",
   "language": "python",
   "name": "python3"
  },
  "language_info": {
   "codemirror_mode": {
    "name": "ipython",
    "version": 3
   },
   "file_extension": ".py",
   "mimetype": "text/x-python",
   "name": "python",
   "nbconvert_exporter": "python",
   "pygments_lexer": "ipython3",
   "version": "3.10.4"
  }
 },
 "nbformat": 4,
 "nbformat_minor": 5
}
