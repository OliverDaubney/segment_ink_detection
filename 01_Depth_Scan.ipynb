{
 "cells": [
  {
   "cell_type": "markdown",
   "id": "663787f6",
   "metadata": {},
   "source": [
    "# Depth Scan\n",
    "The depth scan enables a basic interpretation of where a sheet of papyrus begins in a segment.  \n",
    "The increase in intensity is related to the presence of more attenuating material. This can be  \n",
    "used to set an initial window for the eight layers required for ink detection."
   ]
  },
  {
   "cell_type": "markdown",
   "id": "778fa371",
   "metadata": {},
   "source": [
    "### Imports"
   ]
  },
  {
   "cell_type": "code",
   "execution_count": null,
   "id": "374a3973",
   "metadata": {},
   "outputs": [],
   "source": [
    "import os\n",
    "import statistics\n",
    "import numpy as np\n",
    "import PIL.Image as Image\n",
    "import rapid_support_functions as sf\n",
    "from matplotlib import pyplot as plt\n",
    "Image.MAX_IMAGE_PIXELS = None"
   ]
  },
  {
   "cell_type": "code",
   "execution_count": null,
   "id": "376c12b7",
   "metadata": {},
   "outputs": [],
   "source": [
    "cwd = os.getcwd()\n",
    "segment = '20231005123336'\n",
    "r = [25, 41]"
   ]
  },
  {
   "cell_type": "markdown",
   "id": "cef258dd",
   "metadata": {},
   "source": [
    "### Scan Stack"
   ]
  },
  {
   "cell_type": "code",
   "execution_count": null,
   "id": "f199dacd",
   "metadata": {},
   "outputs": [],
   "source": [
    "intensities, slice_number = [], []\n",
    "for i in range(r[0], r[1]):\n",
    "    path = os.path.join(cwd, segment, 'stack', f'{i:02}.tif')\n",
    "    with Image.open(path) as img:\n",
    "        img_array = np.asarray(img)\n",
    "        random_intensities = []\n",
    "        for j in range(0, 1000):\n",
    "            random_intensities.append(sf.get_random_point(img_array, 0, img_array.shape[0]-1, 0, img_array.shape[1]-1))\n",
    "        avg_intensity = statistics.mean(random_intensities)\n",
    "        intensities.append(avg_intensity)\n",
    "        slice_number.append(i)"
   ]
  },
  {
   "cell_type": "markdown",
   "id": "fab99d6f",
   "metadata": {},
   "source": [
    "### Visualise and Save the Scan"
   ]
  },
  {
   "cell_type": "code",
   "execution_count": null,
   "id": "b3b04c73",
   "metadata": {
    "scrolled": true,
    "slideshow": {
     "slide_type": "slide"
    }
   },
   "outputs": [],
   "source": [
    "path = os.path.join(cwd, segment, 'info', 'depth_scans', 'full_scan.png')\n",
    "fig = plt.figure()\n",
    "plt.plot(slice_number, intensities, color='springgreen')\n",
    "fig.suptitle('Depth Scan for Stack', fontsize=20)\n",
    "plt.xlabel(\"Stack Layer\")\n",
    "plt.ylabel(\"Average Intensity\")\n",
    "plt.savefig(path, facecolor='white', transparent=False)\n",
    "plt.show()"
   ]
  }
 ],
 "metadata": {
  "kernelspec": {
   "display_name": "Python 3 (ipykernel)",
   "language": "python",
   "name": "python3"
  },
  "language_info": {
   "codemirror_mode": {
    "name": "ipython",
    "version": 3
   },
   "file_extension": ".py",
   "mimetype": "text/x-python",
   "name": "python",
   "nbconvert_exporter": "python",
   "pygments_lexer": "ipython3",
   "version": "3.10.4"
  }
 },
 "nbformat": 4,
 "nbformat_minor": 5
}
